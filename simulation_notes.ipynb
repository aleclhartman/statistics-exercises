{
 "cells": [
  {
   "cell_type": "markdown",
   "metadata": {},
   "source": [
    "- **simulation**: an imitation of a real-world process\n",
    "- **trial**: one of the events that make up a simulation"
   ]
  },
  {
   "cell_type": "code",
   "execution_count": 1,
   "metadata": {},
   "outputs": [],
   "source": [
    "import numpy as np"
   ]
  },
  {
   "cell_type": "code",
   "execution_count": 2,
   "metadata": {},
   "outputs": [],
   "source": [
    "flips = np.random.choice([\"Heads\", \"Tails\"], size=1_000_000)"
   ]
  },
  {
   "cell_type": "code",
   "execution_count": 3,
   "metadata": {},
   "outputs": [
    {
     "data": {
      "text/plain": [
       "0.499463"
      ]
     },
     "execution_count": 3,
     "metadata": {},
     "output_type": "execute_result"
    }
   ],
   "source": [
    "(flips == \"Heads\").mean()"
   ]
  },
  {
   "cell_type": "code",
   "execution_count": 4,
   "metadata": {},
   "outputs": [],
   "source": [
    "# how many heads do we get after flipping two coins?\n",
    "# n trials = two\n",
    "# n simulations = 10,000"
   ]
  },
  {
   "cell_type": "markdown",
   "metadata": {},
   "source": [
    "How to do a simulation with python and numpy\n",
    "\n",
    "1. Figure out a way to represent our data\n",
    "2. Create matrix of random data, rows = simulations, columns = trials\n",
    "3. Apply an aggregate row-wise to get the result of each simulation\n",
    "4. Apply a final aggregate to get probability\n"
   ]
  },
  {
   "cell_type": "markdown",
   "metadata": {},
   "source": [
    "> What's the probability I get 2 or more heads after flipping three coins?"
   ]
  },
  {
   "cell_type": "code",
   "execution_count": 5,
   "metadata": {},
   "outputs": [
    {
     "data": {
      "text/plain": [
       "array([[1, 1, 1],\n",
       "       [0, 0, 0],\n",
       "       [0, 1, 1],\n",
       "       ...,\n",
       "       [0, 0, 0],\n",
       "       [0, 1, 1],\n",
       "       [1, 0, 1]])"
      ]
     },
     "execution_count": 5,
     "metadata": {},
     "output_type": "execute_result"
    }
   ],
   "source": [
    "# 1. Represent our data -- 0 is tails, 1 is heads\n",
    "# 2. Create matrix (nrows, ncols)\n",
    "flips = np.random.choice([0,1], size=(10_000, 3))\n",
    "flips"
   ]
  },
  {
   "cell_type": "code",
   "execution_count": 6,
   "metadata": {},
   "outputs": [
    {
     "data": {
      "text/plain": [
       "array([3, 0, 2, ..., 0, 2, 2])"
      ]
     },
     "execution_count": 6,
     "metadata": {},
     "output_type": "execute_result"
    }
   ],
   "source": [
    "# 3. Apply an aggregate row-wise to get the results of each simulation\n",
    "simulation_results = flips.sum(axis=1)\n",
    "simulation_results"
   ]
  },
  {
   "cell_type": "code",
   "execution_count": 7,
   "metadata": {},
   "outputs": [
    {
     "data": {
      "text/plain": [
       "0.5001"
      ]
     },
     "execution_count": 7,
     "metadata": {},
     "output_type": "execute_result"
    }
   ],
   "source": [
    "# 4. Apply a final aggregation to get probability\n",
    "(simulation_results >= 2).mean()"
   ]
  },
  {
   "cell_type": "code",
   "execution_count": 8,
   "metadata": {},
   "outputs": [
    {
     "data": {
      "text/plain": [
       "array(['b', 'a', 'a', 'a', 'a', 'a', 'a', 'a', 'b', 'a', 'b', 'a', 'a',\n",
       "       'a', 'a', 'a', 'a', 'a', 'a', 'b', 'a', 'a', 'a', 'a', 'a'],\n",
       "      dtype='<U1')"
      ]
     },
     "execution_count": 8,
     "metadata": {},
     "output_type": "execute_result"
    }
   ],
   "source": [
    "np.random.choice([\"a\", \"b\"], size=25, p=[.8, .2])"
   ]
  },
  {
   "cell_type": "code",
   "execution_count": 9,
   "metadata": {},
   "outputs": [
    {
     "data": {
      "text/plain": [
       "array(['c', 'a', 'a', 'b', 'c', 'b', 'c', 'c', 'b', 'b', 'b', 'c', 'b',\n",
       "       'a', 'b', 'c', 'a', 'a', 'b', 'b', 'b', 'c', 'c', 'b', 'c'],\n",
       "      dtype='<U1')"
      ]
     },
     "execution_count": 9,
     "metadata": {},
     "output_type": "execute_result"
    }
   ],
   "source": [
    "np.random.seed(123) # for reproducibility\n",
    "np.random.choice([\"a\", \"b\", \"c\"], size=25, p=[1/3, 1/3, 1/3])"
   ]
  },
  {
   "cell_type": "code",
   "execution_count": 10,
   "metadata": {},
   "outputs": [
    {
     "data": {
      "text/plain": [
       "array([0.37454012, 0.95071431, 0.73199394, 0.59865848, 0.15601864,\n",
       "       0.15599452, 0.05808361, 0.86617615, 0.60111501, 0.70807258,\n",
       "       0.02058449, 0.96990985, 0.83244264, 0.21233911, 0.18182497,\n",
       "       0.18340451, 0.30424224, 0.52475643, 0.43194502, 0.29122914,\n",
       "       0.61185289, 0.13949386, 0.29214465, 0.36636184, 0.45606998,\n",
       "       0.78517596, 0.19967378, 0.51423444, 0.59241457, 0.04645041,\n",
       "       0.60754485, 0.17052412, 0.06505159, 0.94888554, 0.96563203,\n",
       "       0.80839735, 0.30461377, 0.09767211, 0.68423303, 0.44015249,\n",
       "       0.12203823, 0.49517691, 0.03438852, 0.9093204 , 0.25877998,\n",
       "       0.66252228, 0.31171108, 0.52006802, 0.54671028, 0.18485446,\n",
       "       0.96958463, 0.77513282, 0.93949894, 0.89482735, 0.59789998,\n",
       "       0.92187424, 0.0884925 , 0.19598286, 0.04522729, 0.32533033,\n",
       "       0.38867729, 0.27134903, 0.82873751, 0.35675333, 0.28093451,\n",
       "       0.54269608, 0.14092422, 0.80219698, 0.07455064, 0.98688694,\n",
       "       0.77224477, 0.19871568, 0.00552212, 0.81546143, 0.70685734,\n",
       "       0.72900717, 0.77127035, 0.07404465, 0.35846573, 0.11586906,\n",
       "       0.86310343, 0.62329813, 0.33089802, 0.06355835, 0.31098232,\n",
       "       0.32518332, 0.72960618, 0.63755747, 0.88721274, 0.47221493,\n",
       "       0.11959425, 0.71324479, 0.76078505, 0.5612772 , 0.77096718,\n",
       "       0.4937956 , 0.52273283, 0.42754102, 0.02541913, 0.10789143])"
      ]
     },
     "execution_count": 10,
     "metadata": {},
     "output_type": "execute_result"
    }
   ],
   "source": [
    "np.random.seed(42)\n",
    "np.random.uniform(size=100)"
   ]
  },
  {
   "cell_type": "code",
   "execution_count": 11,
   "metadata": {},
   "outputs": [
    {
     "data": {
      "text/plain": [
       "array([3.08704707, 2.70099265, 3.09176078, 1.01243109, 2.78032811,\n",
       "       3.35711257, 4.47789404, 2.48172978, 2.1915064 , 2.49824296,\n",
       "       3.91540212, 3.32875111, 2.4702398 , 3.51326743, 3.09707755,\n",
       "       3.96864499, 2.29794691, 2.67233785, 2.60789185, 1.53648505,\n",
       "       3.29612028, 3.26105527, 3.00511346, 2.76541287, 1.58462926,\n",
       "       2.57935468, 2.65728548, 2.19772273, 2.83871429, 3.40405086,\n",
       "       4.8861859 , 3.17457781, 3.25755039, 2.92555408, 1.08122878,\n",
       "       2.97348612, 3.06023021, 5.46324211, 2.80763904, 3.30154734,\n",
       "       2.96528823, 1.83132196, 4.14282281, 3.75193303, 3.79103195,\n",
       "       2.09061255, 4.40279431, 1.59814894, 3.58685709, 5.19045563,\n",
       "       2.00946367, 2.43370227, 3.09965137, 2.49652435, 1.44933657,\n",
       "       3.06856297, 1.93769629, 3.47359243, 2.08057577, 4.54993441,\n",
       "       2.21674671, 2.67793848, 3.81351722, 1.76913568, 3.22745993,\n",
       "       4.30714275, 1.39251677, 3.18463386, 3.25988279, 3.78182287,\n",
       "       1.76304929, 1.67954339, 3.52194157, 3.29698467, 3.25049285,\n",
       "       3.34644821, 2.31997528, 3.2322537 , 3.29307247, 2.28564858,\n",
       "       4.86577451, 3.47383292, 1.8086965 , 3.65655361, 2.02531833,\n",
       "       3.7870846 , 4.15859558, 2.17931768, 3.96337613, 3.41278093,\n",
       "       3.82206016, 4.89679298, 2.75461188, 2.24626384, 2.11048557,\n",
       "       2.18418972, 2.92289829, 3.34115197, 3.2766908 , 3.82718325])"
      ]
     },
     "execution_count": 11,
     "metadata": {},
     "output_type": "execute_result"
    }
   ],
   "source": [
    "np.random.normal(3, 1, size=100)"
   ]
  },
  {
   "cell_type": "markdown",
   "metadata": {},
   "source": [
    "> Carnival problem"
   ]
  },
  {
   "cell_type": "markdown",
   "metadata": {},
   "source": [
    "1. Calculate P(win)\n",
    "1. Determine whether we should play"
   ]
  },
  {
   "cell_type": "code",
   "execution_count": 12,
   "metadata": {},
   "outputs": [
    {
     "data": {
      "text/plain": [
       "array([[2, 5, 6],\n",
       "       [1, 4, 1],\n",
       "       [5, 4, 5],\n",
       "       ...,\n",
       "       [3, 2, 4],\n",
       "       [1, 5, 6],\n",
       "       [3, 4, 6]])"
      ]
     },
     "execution_count": 12,
     "metadata": {},
     "output_type": "execute_result"
    }
   ],
   "source": [
    "# 1. Data representation, numbers 1-6 side of a die\n",
    "# 2. matrix of random numbers\n",
    "\n",
    "rolls = np.random.choice(range(1,7), size=(10_000, 3))\n",
    "rolls"
   ]
  },
  {
   "cell_type": "code",
   "execution_count": 13,
   "metadata": {},
   "outputs": [
    {
     "data": {
      "text/plain": [
       "array([13,  6, 14, ...,  9, 12, 13])"
      ]
     },
     "execution_count": 13,
     "metadata": {},
     "output_type": "execute_result"
    }
   ],
   "source": [
    "# 3. Aggregate row-wise to get the results of each simulation\n",
    "sum_of_rolls = rolls.sum(axis=1)\n",
    "sum_of_rolls"
   ]
  },
  {
   "cell_type": "code",
   "execution_count": 14,
   "metadata": {},
   "outputs": [
    {
     "data": {
      "text/plain": [
       "0.3753"
      ]
     },
     "execution_count": 14,
     "metadata": {},
     "output_type": "execute_result"
    }
   ],
   "source": [
    "p_win = (sum_of_rolls >= 12).mean()\n",
    "p_win"
   ]
  },
  {
   "cell_type": "code",
   "execution_count": 15,
   "metadata": {},
   "outputs": [
    {
     "data": {
      "text/plain": [
       "5.6295"
      ]
     },
     "execution_count": 15,
     "metadata": {},
     "output_type": "execute_result"
    }
   ],
   "source": [
    "expected_winnings = p_win * 15\n",
    "expected_winnings"
   ]
  },
  {
   "cell_type": "code",
   "execution_count": 16,
   "metadata": {},
   "outputs": [
    {
     "data": {
      "text/plain": [
       "array([[0, 1],\n",
       "       [0, 0],\n",
       "       [1, 1],\n",
       "       ...,\n",
       "       [0, 0],\n",
       "       [1, 0],\n",
       "       [1, 1]])"
      ]
     },
     "execution_count": 16,
     "metadata": {},
     "output_type": "execute_result"
    }
   ],
   "source": [
    "# 1. Represent our data\n",
    "# 1 == nap, 0 == no nap\n",
    "# 2. Generate matrix\n",
    "np.random.seed(3)\n",
    "naps = np.random.choice([0, 1], p=[.7, .3], size=(10_000, 2))\n",
    "naps"
   ]
  },
  {
   "cell_type": "code",
   "execution_count": 17,
   "metadata": {},
   "outputs": [
    {
     "data": {
      "text/plain": [
       "array([1, 0, 2, ..., 0, 1, 2])"
      ]
     },
     "execution_count": 17,
     "metadata": {},
     "output_type": "execute_result"
    }
   ],
   "source": [
    "# 3. Aggregate by row\n",
    "n_naps = naps.sum(axis=1)\n",
    "n_naps"
   ]
  },
  {
   "cell_type": "code",
   "execution_count": 18,
   "metadata": {},
   "outputs": [],
   "source": [
    "import pandas as pd\n",
    "import matplotlib.pyplot as plt"
   ]
  },
  {
   "cell_type": "code",
   "execution_count": 19,
   "metadata": {},
   "outputs": [
    {
     "data": {
      "text/plain": [
       "<matplotlib.axes._subplots.AxesSubplot at 0x10ed6a090>"
      ]
     },
     "execution_count": 19,
     "metadata": {},
     "output_type": "execute_result"
    },
    {
     "data": {
      "image/png": "[encoded data removed]",
      "text/plain": [
       "<Figure size 432x288 with 1 Axes>"
      ]
     },
     "metadata": {
      "needs_background": "light"
     },
     "output_type": "display_data"
    }
   ],
   "source": [
    "pd.Series(n_naps).value_counts().plot.bar()"
   ]
  },
  {
   "cell_type": "code",
   "execution_count": 20,
   "metadata": {},
   "outputs": [
    {
     "data": {
      "text/plain": [
       "0.5095"
      ]
     },
     "execution_count": 20,
     "metadata": {},
     "output_type": "execute_result"
    }
   ],
   "source": [
    "(n_naps >= 1).mean()"
   ]
  },
  {
   "cell_type": "code",
   "execution_count": 21,
   "metadata": {},
   "outputs": [
    {
     "data": {
      "text/plain": [
       "0.4905"
      ]
     },
     "execution_count": 21,
     "metadata": {},
     "output_type": "execute_result"
    }
   ],
   "source": [
    "(n_naps == 0).mean()"
   ]
  },
  {
   "cell_type": "code",
   "execution_count": 22,
   "metadata": {},
   "outputs": [
    {
     "data": {
      "text/plain": [
       "array([[5, 1, 3],\n",
       "       [5, 6, 2],\n",
       "       [1, 5, 2],\n",
       "       ...,\n",
       "       [4, 1, 5],\n",
       "       [3, 3, 1],\n",
       "       [1, 1, 6]])"
      ]
     },
     "execution_count": 22,
     "metadata": {},
     "output_type": "execute_result"
    }
   ],
   "source": [
    "# 1. Represent our data, 1-6\n",
    "# 2. create matrix\n",
    "rolls = np.random.choice(range(1,7), size=(10_001, 3))\n",
    "rolls"
   ]
  },
  {
   "cell_type": "code",
   "execution_count": 23,
   "metadata": {},
   "outputs": [
    {
     "data": {
      "text/plain": [
       "0.41415858414158585"
      ]
     },
     "execution_count": 23,
     "metadata": {},
     "output_type": "execute_result"
    }
   ],
   "source": [
    "((rolls == 3).sum(axis=1) >= 1).mean()"
   ]
  },
  {
   "cell_type": "code",
   "execution_count": 24,
   "metadata": {},
   "outputs": [
    {
     "data": {
      "text/html": [
       "<div>\n",
       "<style scoped>\n",
       "    .dataframe tbody tr th:only-of-type {\n",
       "        vertical-align: middle;\n",
       "    }\n",
       "\n",
       "    .dataframe tbody tr th {\n",
       "        vertical-align: top;\n",
       "    }\n",
       "\n",
       "    .dataframe thead th {\n",
       "        text-align: right;\n",
       "    }\n",
       "</style>\n",
       "<table border=\"1\" class=\"dataframe\">\n",
       "  <thead>\n",
       "    <tr style=\"text-align: right;\">\n",
       "      <th></th>\n",
       "      <th>0</th>\n",
       "      <th>1</th>\n",
       "      <th>2</th>\n",
       "    </tr>\n",
       "  </thead>\n",
       "  <tbody>\n",
       "    <tr>\n",
       "      <td>0</td>\n",
       "      <td>5</td>\n",
       "      <td>1</td>\n",
       "      <td>3</td>\n",
       "    </tr>\n",
       "    <tr>\n",
       "      <td>1</td>\n",
       "      <td>5</td>\n",
       "      <td>6</td>\n",
       "      <td>2</td>\n",
       "    </tr>\n",
       "    <tr>\n",
       "      <td>2</td>\n",
       "      <td>1</td>\n",
       "      <td>5</td>\n",
       "      <td>2</td>\n",
       "    </tr>\n",
       "    <tr>\n",
       "      <td>3</td>\n",
       "      <td>6</td>\n",
       "      <td>6</td>\n",
       "      <td>4</td>\n",
       "    </tr>\n",
       "    <tr>\n",
       "      <td>4</td>\n",
       "      <td>5</td>\n",
       "      <td>5</td>\n",
       "      <td>1</td>\n",
       "    </tr>\n",
       "    <tr>\n",
       "      <td>...</td>\n",
       "      <td>...</td>\n",
       "      <td>...</td>\n",
       "      <td>...</td>\n",
       "    </tr>\n",
       "    <tr>\n",
       "      <td>9996</td>\n",
       "      <td>4</td>\n",
       "      <td>2</td>\n",
       "      <td>2</td>\n",
       "    </tr>\n",
       "    <tr>\n",
       "      <td>9997</td>\n",
       "      <td>6</td>\n",
       "      <td>4</td>\n",
       "      <td>2</td>\n",
       "    </tr>\n",
       "    <tr>\n",
       "      <td>9998</td>\n",
       "      <td>4</td>\n",
       "      <td>1</td>\n",
       "      <td>5</td>\n",
       "    </tr>\n",
       "    <tr>\n",
       "      <td>9999</td>\n",
       "      <td>3</td>\n",
       "      <td>3</td>\n",
       "      <td>1</td>\n",
       "    </tr>\n",
       "    <tr>\n",
       "      <td>10000</td>\n",
       "      <td>1</td>\n",
       "      <td>1</td>\n",
       "      <td>6</td>\n",
       "    </tr>\n",
       "  </tbody>\n",
       "</table>\n",
       "<p>10001 rows × 3 columns</p>\n",
       "</div>"
      ],
      "text/plain": [
       "       0  1  2\n",
       "0      5  1  3\n",
       "1      5  6  2\n",
       "2      1  5  2\n",
       "3      6  6  4\n",
       "4      5  5  1\n",
       "...   .. .. ..\n",
       "9996   4  2  2\n",
       "9997   6  4  2\n",
       "9998   4  1  5\n",
       "9999   3  3  1\n",
       "10000  1  1  6\n",
       "\n",
       "[10001 rows x 3 columns]"
      ]
     },
     "execution_count": 24,
     "metadata": {},
     "output_type": "execute_result"
    }
   ],
   "source": [
    "df = pd.DataFrame(rolls)\n",
    "df"
   ]
  },
  {
   "cell_type": "code",
   "execution_count": 25,
   "metadata": {},
   "outputs": [],
   "source": [
    "def contains_a_three(one_row_of_rolls: pd.Series) -> bool:\n",
    "    return 3 in one_row_of_rolls.values\n",
    "    \n",
    "assert contains_a_three(pd.Series([1, 2, 3])) == True\n",
    "assert contains_a_three(pd.Series([1, 2, 4])) == False"
   ]
  },
  {
   "cell_type": "code",
   "execution_count": 26,
   "metadata": {},
   "outputs": [
    {
     "data": {
      "text/plain": [
       "0.41415858414158585"
      ]
     },
     "execution_count": 26,
     "metadata": {},
     "output_type": "execute_result"
    }
   ],
   "source": [
    "df.apply(contains_a_three, axis=1).mean()"
   ]
  },
  {
   "cell_type": "code",
   "execution_count": 27,
   "metadata": {},
   "outputs": [
    {
     "data": {
      "text/plain": [
       "0.0044995500449955"
      ]
     },
     "execution_count": 27,
     "metadata": {},
     "output_type": "execute_result"
    }
   ],
   "source": [
    "# how many times do we get all threes?\n",
    "def did_get_all_threes(one_row_of_rolls: pd.Series) -> bool:\n",
    "    return (one_row_of_rolls == 3).all()\n",
    "\n",
    "pd.DataFrame(rolls).apply(did_get_all_threes, axis=1).mean()"
   ]
  },
  {
   "cell_type": "code",
   "execution_count": null,
   "metadata": {},
   "outputs": [],
   "source": []
  }
 ],
 "metadata": {
  "kernelspec": {
   "display_name": "Python 3",
   "language": "python",
   "name": "python3"
  },
  "language_info": {
   "codemirror_mode": {
    "name": "ipython",
    "version": 3
   },
   "file_extension": ".py",
   "mimetype": "text/x-python",
   "name": "python",
   "nbconvert_exporter": "python",
   "pygments_lexer": "ipython3",
   "version": "3.7.4"
  }
 },
 "nbformat": 4,
 "nbformat_minor": 2
}
