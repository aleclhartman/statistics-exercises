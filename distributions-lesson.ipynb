{
 "cells": [
  {
   "cell_type": "markdown",
   "metadata": {},
   "source": [
    "# Statistical Distributions\n",
    "\n",
    "- def: math functions implemented with python code in the `scipy` library that we can use to model real-world processes"
   ]
  },
  {
   "cell_type": "code",
   "execution_count": 1,
   "metadata": {},
   "outputs": [],
   "source": [
    "from scipy import stats\n",
    "import numpy as np\n",
    "import matplotlib.pyplot as plt"
   ]
  },
  {
   "cell_type": "markdown",
   "metadata": {},
   "source": [
    "## Uniform Distribution\n",
    "\n",
    "- discrete `randint`\n",
    "- continous `uniform`"
   ]
  },
  {
   "cell_type": "code",
   "execution_count": 3,
   "metadata": {},
   "outputs": [
    {
     "data": {
      "text/plain": [
       "<scipy.stats._distn_infrastructure.rv_frozen at 0x1a1b3b2810>"
      ]
     },
     "execution_count": 3,
     "metadata": {},
     "output_type": "execute_result"
    }
   ],
   "source": [
    "die_distribution = stats.randint(1,7)\n",
    "die_distribution"
   ]
  },
  {
   "cell_type": "markdown",
   "metadata": {},
   "source": [
    "## Working with Distributions\n",
    "\n",
    "- `.rvs`: random values, e.g. for simulation\n",
    "- `.pmf` + `.pdf`: =\n",
    "- `.cdf` + `.ppf`: <=\n",
    "- `.sf` + `.isf`: >"
   ]
  },
  {
   "cell_type": "code",
   "execution_count": 17,
   "metadata": {
    "scrolled": true
   },
   "outputs": [
    {
     "data": {
      "text/plain": [
       "array([[5, 5],\n",
       "       [4, 4],\n",
       "       [2, 6],\n",
       "       [1, 3],\n",
       "       [5, 1]])"
      ]
     },
     "execution_count": 17,
     "metadata": {},
     "output_type": "execute_result"
    }
   ],
   "source": [
    "die_distribution.rvs((5, 2))"
   ]
  },
  {
   "cell_type": "code",
   "execution_count": 18,
   "metadata": {},
   "outputs": [
    {
     "data": {
      "text/plain": [
       "0.16666666666666666"
      ]
     },
     "execution_count": 18,
     "metadata": {},
     "output_type": "execute_result"
    }
   ],
   "source": [
    "# what is the likelihood we roll a 4?\n",
    "die_distribution.pmf(4)"
   ]
  },
  {
   "cell_type": "code",
   "execution_count": 19,
   "metadata": {},
   "outputs": [
    {
     "data": {
      "text/plain": [
       "0.5"
      ]
     },
     "execution_count": 19,
     "metadata": {},
     "output_type": "execute_result"
    }
   ],
   "source": [
    "# what is the probability that we roll a three or less?\n",
    "die_distribution.cdf(3)"
   ]
  },
  {
   "cell_type": "code",
   "execution_count": 20,
   "metadata": {},
   "outputs": [
    {
     "data": {
      "text/plain": [
       "0.6666666666666667"
      ]
     },
     "execution_count": 20,
     "metadata": {},
     "output_type": "execute_result"
    }
   ],
   "source": [
    "# what is the likelihood we roll greater than 2?\n",
    "die_distribution.sf(2)"
   ]
  },
  {
   "cell_type": "code",
   "execution_count": 24,
   "metadata": {},
   "outputs": [
    {
     "data": {
      "text/plain": [
       "5.0"
      ]
     },
     "execution_count": 24,
     "metadata": {},
     "output_type": "execute_result"
    }
   ],
   "source": [
    "# there's a 1/6 chance I roll greater than what number?\n",
    "p = 1/6\n",
    "\n",
    "die_distribution.isf(p)"
   ]
  },
  {
   "cell_type": "code",
   "execution_count": 27,
   "metadata": {},
   "outputs": [
    {
     "data": {
      "text/plain": [
       "3.0"
      ]
     },
     "execution_count": 27,
     "metadata": {},
     "output_type": "execute_result"
    }
   ],
   "source": [
    "# there's a 50% chance I roll what number or less\n",
    "halfway_value = die_distribution.ppf(.5) # assigning a discriptive variable\n",
    "halfway_value"
   ]
  },
  {
   "cell_type": "markdown",
   "metadata": {},
   "source": [
    "## Normal Distribution\n",
    "\n",
    "- continuous random var\n",
    "- mean, $\\mu$, the center\n",
    "- standard deviation, $\\sigma$, the \"spread\""
   ]
  },
  {
   "cell_type": "code",
   "execution_count": 28,
   "metadata": {},
   "outputs": [
    {
     "data": {
      "text/plain": [
       "<scipy.stats._distn_infrastructure.rv_frozen at 0x1a1b542c10>"
      ]
     },
     "execution_count": 28,
     "metadata": {},
     "output_type": "execute_result"
    }
   ],
   "source": [
    "coffee_consumption = stats.norm(10, 1)\n",
    "coffee_consumption"
   ]
  },
  {
   "cell_type": "code",
   "execution_count": 34,
   "metadata": {
    "scrolled": false
   },
   "outputs": [
    {
     "data": {
      "text/plain": [
       "(array([2.000e+00, 3.000e+00, 1.400e+01, 2.500e+01, 4.600e+01, 1.120e+02,\n",
       "        2.040e+02, 2.880e+02, 5.030e+02, 6.380e+02, 8.530e+02, 9.360e+02,\n",
       "        1.113e+03, 1.107e+03, 1.057e+03, 8.960e+02, 7.280e+02, 5.830e+02,\n",
       "        3.480e+02, 2.490e+02, 1.520e+02, 7.200e+01, 3.400e+01, 2.100e+01,\n",
       "        4.000e+00, 8.000e+00, 3.000e+00, 0.000e+00, 0.000e+00, 1.000e+00]),\n",
       " array([ 6.28710509,  6.56658411,  6.84606313,  7.12554215,  7.40502117,\n",
       "         7.68450019,  7.96397922,  8.24345824,  8.52293726,  8.80241628,\n",
       "         9.0818953 ,  9.36137432,  9.64085334,  9.92033237, 10.19981139,\n",
       "        10.47929041, 10.75876943, 11.03824845, 11.31772747, 11.59720649,\n",
       "        11.87668552, 12.15616454, 12.43564356, 12.71512258, 12.9946016 ,\n",
       "        13.27408062, 13.55355964, 13.83303867, 14.11251769, 14.39199671,\n",
       "        14.67147573]),\n",
       " <a list of 30 Patch objects>)"
      ]
     },
     "execution_count": 34,
     "metadata": {},
     "output_type": "execute_result"
    },
    {
     "data": {
      "image/png": "[encoded data removed]",
      "text/plain": [
       "<Figure size 1152x648 with 1 Axes>"
      ]
     },
     "metadata": {
      "needs_background": "light"
     },
     "output_type": "display_data"
    }
   ],
   "source": [
    "plt.figure(figsize=(16,9))\n",
    "plt.hist(coffee_consumption.rvs(10_000), bins=30, fc=\"white\", ec=\"black\")"
   ]
  },
  {
   "cell_type": "code",
   "execution_count": 37,
   "metadata": {},
   "outputs": [
    {
     "data": {
      "text/plain": [
       "0.022750131948179195"
      ]
     },
     "execution_count": 37,
     "metadata": {},
     "output_type": "execute_result"
    }
   ],
   "source": [
    "# what's the likelihood we consume less (or equal to) than 8 liters of coffee one day?\n",
    "coffee_consumption.cdf(8)"
   ]
  },
  {
   "cell_type": "code",
   "execution_count": 38,
   "metadata": {},
   "outputs": [
    {
     "data": {
      "text/plain": [
       "9.325510249803918"
      ]
     },
     "execution_count": 38,
     "metadata": {},
     "output_type": "execute_result"
    }
   ],
   "source": [
    "# how little coffee do we have to drink to be in the bottom quarter of all days of coffee consumption?\n",
    "coffee_consumption.ppf(.25)"
   ]
  },
  {
   "cell_type": "markdown",
   "metadata": {},
   "source": [
    "Say the average internet consumption for Spectrum for a neighborhood is 1250 GB +- 100 GB. This is the historical average for the last 3 months.\n",
    "\n",
    "On Monday we observed 1500 GB of consumption. Assuming internet usage patterns haven't changed, how likely is it we'd see this number due to chance?"
   ]
  },
  {
   "cell_type": "code",
   "execution_count": 45,
   "metadata": {
    "scrolled": true
   },
   "outputs": [
    {
     "data": {
      "text/plain": [
       "0.006209665325776132"
      ]
     },
     "execution_count": 45,
     "metadata": {},
     "output_type": "execute_result"
    }
   ],
   "source": [
    "internet_usage = stats.norm(1250, 100)\n",
    "internet_usage.sf(1500)"
   ]
  },
  {
   "cell_type": "code",
   "execution_count": 46,
   "metadata": {},
   "outputs": [
    {
     "data": {
      "text/plain": [
       "1500.0"
      ]
     },
     "execution_count": 46,
     "metadata": {},
     "output_type": "execute_result"
    }
   ],
   "source": [
    "internet_usage.isf(0.006209665325776132)"
   ]
  },
  {
   "cell_type": "code",
   "execution_count": 53,
   "metadata": {},
   "outputs": [
    {
     "data": {
      "text/plain": [
       "1378.15515655446"
      ]
     },
     "execution_count": 53,
     "metadata": {},
     "output_type": "execute_result"
    }
   ],
   "source": [
    "# How much data usage constitues the top 10% of all days\n",
    "internet_usage.isf(.10) # Top 10 percent"
   ]
  },
  {
   "cell_type": "code",
   "execution_count": 48,
   "metadata": {},
   "outputs": [
    {
     "data": {
      "text/plain": [
       "1378.15515655446"
      ]
     },
     "execution_count": 48,
     "metadata": {},
     "output_type": "execute_result"
    }
   ],
   "source": [
    "# How much data usage constitues the top 10% of all days\n",
    "internet_usage.ppf(.90) # 90th percentile"
   ]
  },
  {
   "cell_type": "code",
   "execution_count": 52,
   "metadata": {},
   "outputs": [
    {
     "data": {
      "text/plain": [
       "(array([3.000e+00, 1.000e+00, 8.000e+00, 1.200e+01, 3.600e+01, 1.140e+02,\n",
       "        1.960e+02, 3.600e+02, 6.140e+02, 1.024e+03, 1.740e+03, 2.563e+03,\n",
       "        3.762e+03, 5.008e+03, 6.302e+03, 7.775e+03, 8.767e+03, 9.277e+03,\n",
       "        9.395e+03, 9.125e+03, 8.195e+03, 7.184e+03, 5.826e+03, 4.330e+03,\n",
       "        3.081e+03, 2.140e+03, 1.335e+03, 8.320e+02, 4.640e+02, 2.700e+02,\n",
       "        1.540e+02, 6.300e+01, 2.500e+01, 1.600e+01, 3.000e+00]),\n",
       " array([ 812.25321206,  836.22671161,  860.20021115,  884.1737107 ,\n",
       "         908.14721024,  932.12070979,  956.09420933,  980.06770888,\n",
       "        1004.04120842, 1028.01470797, 1051.98820751, 1075.96170706,\n",
       "        1099.9352066 , 1123.90870615, 1147.88220569, 1171.85570524,\n",
       "        1195.82920478, 1219.80270433, 1243.77620387, 1267.74970342,\n",
       "        1291.72320297, 1315.69670251, 1339.67020206, 1363.6437016 ,\n",
       "        1387.61720115, 1411.59070069, 1435.56420024, 1459.53769978,\n",
       "        1483.51119933, 1507.48469887, 1531.45819842, 1555.43169796,\n",
       "        1579.40519751, 1603.37869705, 1627.3521966 , 1651.32569614]),\n",
       " <a list of 35 Patch objects>)"
      ]
     },
     "execution_count": 52,
     "metadata": {},
     "output_type": "execute_result"
    },
    {
     "data": {
      "image/png": "[encoded data removed]",
      "text/plain": [
       "<Figure size 432x288 with 1 Axes>"
      ]
     },
     "metadata": {
      "needs_background": "light"
     },
     "output_type": "display_data"
    }
   ],
   "source": [
    "plt.hist(internet_usage.rvs(100_000), bins=35)"
   ]
  },
  {
   "cell_type": "markdown",
   "metadata": {},
   "source": [
    "## Binomial Distribution\n",
    "\n",
    "- discrete random var: number of \"successes\"\n",
    "- $n$, number of trials\n",
    "- $p$, probability of success for one trial"
   ]
  },
  {
   "cell_type": "code",
   "execution_count": 61,
   "metadata": {},
   "outputs": [
    {
     "data": {
      "text/plain": [
       "0.3086999999999999"
      ]
     },
     "execution_count": 61,
     "metadata": {},
     "output_type": "execute_result"
    }
   ],
   "source": [
    "# there's a 70 percent chance a food truch shows up.\n",
    "# what's the likelihood a food truck shows up 2 days out of the week?\n",
    "\n",
    "# outcome: # of days that a food truck shows up\n",
    "# n == 5\n",
    "# p == .70\n",
    "\n",
    "n = 5\n",
    "p = .3\n",
    "\n",
    "stats.binom(n, p).pmf(2)"
   ]
  },
  {
   "cell_type": "code",
   "execution_count": 62,
   "metadata": {},
   "outputs": [
    {
     "data": {
      "image/png": "[encoded data removed]",
      "text/plain": [
       "<Figure size 1152x648 with 1 Axes>"
      ]
     },
     "metadata": {
      "needs_background": "light"
     },
     "output_type": "display_data"
    }
   ],
   "source": [
    "plt.figure(figsize=(16,9))\n",
    "x = np.arange(0, 6)\n",
    "y = stats.binom(n, p).pmf(x)\n",
    "\n",
    "plt.bar(x, y, width=1, ec=\"black\")\n",
    "plt.xlabel(\"# of days a food truck shows up\")\n",
    "plt.ylabel(\"probability\")\n",
    "plt.show()"
   ]
  },
  {
   "cell_type": "code",
   "execution_count": 64,
   "metadata": {},
   "outputs": [
    {
     "data": {
      "text/plain": [
       "0.47178000000000003"
      ]
     },
     "execution_count": 64,
     "metadata": {},
     "output_type": "execute_result"
    }
   ],
   "source": [
    "# What's the likelihood that a food truck shows up 3 or less days out of the week?\n",
    "\n",
    "n = 5\n",
    "p = .7\n",
    "\n",
    "stats.binom(n, p).cdf(3)"
   ]
  },
  {
   "cell_type": "code",
   "execution_count": 65,
   "metadata": {},
   "outputs": [
    {
     "data": {
      "text/plain": [
       "0.16308000000000006"
      ]
     },
     "execution_count": 65,
     "metadata": {},
     "output_type": "execute_result"
    }
   ],
   "source": [
    "# what's the likelihood that a food truck shows up less than 3 days out of the week?\n",
    "# rephrase in order to use our functions\n",
    "# likelihood a food truck shows up two or less days out of the week\n",
    "stats.binom(n, p).cdf(2)"
   ]
  },
  {
   "cell_type": "code",
   "execution_count": 66,
   "metadata": {},
   "outputs": [
    {
     "data": {
      "text/plain": [
       "0.1630800000000001"
      ]
     },
     "execution_count": 66,
     "metadata": {},
     "output_type": "execute_result"
    }
   ],
   "source": [
    "# p(less than 3 days) is equal to\n",
    "# p(3 or fewer days) - p(3)\n",
    "stats.binom(n, p).cdf(3) - stats.binom(n, p).pmf(3)"
   ]
  },
  {
   "cell_type": "markdown",
   "metadata": {},
   "source": [
    "---\n",
    "\n",
    "Say you go to the grocery store, and there's 80% chance they have toilet paper. If everyone in Curie goes to the store, how likely is it we all can buy toilet paper?"
   ]
  },
  {
   "cell_type": "code",
   "execution_count": 78,
   "metadata": {},
   "outputs": [
    {
     "data": {
      "text/plain": [
       "0.022517998136852502"
      ]
     },
     "execution_count": 78,
     "metadata": {},
     "output_type": "execute_result"
    }
   ],
   "source": [
    "n = 17\n",
    "p = .8\n",
    "\n",
    "stats.binom(n, p).pmf(n) # Likelihood that all trials are successes\n",
    "stats.binom(n, p).sf(n - 1)"
   ]
  },
  {
   "cell_type": "markdown",
   "metadata": {},
   "source": [
    "Suppose there's a surprise stats quiz this afternoon, and you haven't studied. There's 10 multiple choice questions, each with 4 answers. If you guess at random for each question, what's the likelihood that you pass the quiz?"
   ]
  },
  {
   "cell_type": "code",
   "execution_count": 81,
   "metadata": {},
   "outputs": [
    {
     "data": {
      "text/plain": [
       "0.003505706787109374"
      ]
     },
     "execution_count": 81,
     "metadata": {},
     "output_type": "execute_result"
    }
   ],
   "source": [
    "n = 10\n",
    "p = .25\n",
    "\n",
    "stats.binom(n, p).sf(6)"
   ]
  },
  {
   "cell_type": "markdown",
   "metadata": {},
   "source": [
    "## Poisson Distribution\n",
    "\n",
    "- discrete random var: number of events\n",
    "- $\\lambda$: avg rate over time"
   ]
  },
  {
   "cell_type": "markdown",
   "metadata": {},
   "source": [
    "Suppose codeup students ask 3.5 questions per lecture"
   ]
  },
  {
   "cell_type": "code",
   "execution_count": 82,
   "metadata": {},
   "outputs": [
    {
     "data": {
      "text/plain": [
       "0.2745550466903957"
      ]
     },
     "execution_count": 82,
     "metadata": {},
     "output_type": "execute_result"
    }
   ],
   "source": [
    "stats.poisson(3.5).sf(4)"
   ]
  },
  {
   "cell_type": "code",
   "execution_count": 90,
   "metadata": {},
   "outputs": [
    {
     "data": {
      "text/plain": [
       "Text(0, 0.5, 'P(X = x)')"
      ]
     },
     "execution_count": 90,
     "metadata": {},
     "output_type": "execute_result"
    },
    {
     "data": {
      "image/png": "[encoded data removed]",
      "text/plain": [
       "<Figure size 432x288 with 1 Axes>"
      ]
     },
     "metadata": {
      "needs_background": "light"
     },
     "output_type": "display_data"
    }
   ],
   "source": [
    "x = np.arange(0, 11)\n",
    "y = stats.poisson(3.5).pmf(x)\n",
    "\n",
    "plt.bar(x, y)\n",
    "plt.xlabel(\"number of questions\")\n",
    "plt.ylabel(\"P(X = x)\") # the probability that our y label takes on each specific value"
   ]
  },
  {
   "cell_type": "code",
   "execution_count": 94,
   "metadata": {},
   "outputs": [
    {
     "data": {
      "text/plain": [
       "0.32084719886213414"
      ]
     },
     "execution_count": 94,
     "metadata": {},
     "output_type": "execute_result"
    }
   ],
   "source": [
    "# what is the likelihood that two or fewer questions are aseked\n",
    "stats.poisson(3.5).cdf(2)"
   ]
  },
  {
   "cell_type": "code",
   "execution_count": 98,
   "metadata": {},
   "outputs": [
    {
     "data": {
      "text/plain": [
       "0.18473675547622787"
      ]
     },
     "execution_count": 98,
     "metadata": {},
     "output_type": "execute_result"
    }
   ],
   "source": [
    "# For modeling food turck we used a binomial\n",
    "# Given P(food truck shows up one day), number of days\n",
    "\n",
    "# for a poisson distribution, we need an average rate over time\n",
    "# give number of food trucks per week\n",
    "# on average 3 food trucks show up per week\n",
    "\n",
    "# for a given week what's the likelihood that a food truck\n",
    "# shows up every day -- P(5 or more food trucks show up)\n",
    "stats.poisson(3).sf(4)"
   ]
  },
  {
   "cell_type": "code",
   "execution_count": 100,
   "metadata": {},
   "outputs": [
    {
     "data": {
      "text/plain": [
       "<BarContainer object of 9 artists>"
      ]
     },
     "execution_count": 100,
     "metadata": {},
     "output_type": "execute_result"
    },
    {
     "data": {
      "image/png": "[encoded data removed]",
      "text/plain": [
       "<Figure size 1152x648 with 1 Axes>"
      ]
     },
     "metadata": {
      "needs_background": "light"
     },
     "output_type": "display_data"
    }
   ],
   "source": [
    "n = 5\n",
    "p = .7\n",
    "\n",
    "x = np.arange(1, 10)\n",
    "y = stats.binom(n, p).pmf(x)\n",
    "\n",
    "plt.figure(figsize=(16,9))\n",
    "plt.bar(x, y)"
   ]
  },
  {
   "cell_type": "code",
   "execution_count": null,
   "metadata": {},
   "outputs": [],
   "source": []
  }
 ],
 "metadata": {
  "kernelspec": {
   "display_name": "Python 3",
   "language": "python",
   "name": "python3"
  },
  "language_info": {
   "codemirror_mode": {
    "name": "ipython",
    "version": 3
   },
   "file_extension": ".py",
   "mimetype": "text/x-python",
   "name": "python",
   "nbconvert_exporter": "python",
   "pygments_lexer": "ipython3",
   "version": "3.7.4"
  }
 },
 "nbformat": 4,
 "nbformat_minor": 2
}
