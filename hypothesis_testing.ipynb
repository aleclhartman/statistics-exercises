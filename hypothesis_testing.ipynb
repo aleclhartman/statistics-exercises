{
 "cells": [
  {
   "cell_type": "markdown",
   "metadata": {},
   "source": [
    "# Hypothesis Testing"
   ]
  },
  {
   "cell_type": "markdown",
   "metadata": {},
   "source": [
    "For each of the following questions, formulate a null and alternative hypothesis (be as specific as you can be), then give an example of what a true positive, true negative, type I and type II errors would look like. Note that some of the questions are intentionally phrased in a vague way. It is your job to reword these as more precise questions that could be tested.\n",
    "\n",
    "    - Has the network latency gone up since we switched internet service providers?\n",
    "    - Is the website redesign any good?\n",
    "    - Is our television ad driving more sales?"
   ]
  },
  {
   "cell_type": "markdown",
   "metadata": {},
   "source": [
    "Data Sources:\n",
    "- Archived round-trip time (RTT)\n",
    "\n",
    "Hypotheses:\n",
    "- $H_0$: There has been no change to RTT since switching ISPs\n",
    "\n",
    "- $H_a$: RTT increased speed since swithing ISPs\n",
    "\n",
    "Results:\n",
    "- True Positive:\n",
    "    - low p-value\n",
    "    - RTT has increased speed since switching ISPs\n",
    "- False Positive (Type I):\n",
    "    - low p-value\n",
    "    - RTT has increased speed, but not as a result of changing ISPs\n",
    "- True Negative:\n",
    "    - high p-value\n",
    "    - RTT has not changed since switching ISPs\n",
    "- False Negative (Type II):\n",
    "    - high p-value\n",
    "    - RTT has not changed, but "
   ]
  },
  {
   "cell_type": "markdown",
   "metadata": {},
   "source": [
    "Data Sources:\n",
    "- Customer satisfaction surveys\n",
    "\n",
    "Hypotheses:\n",
    "- $H_0$: Customer satisfaction has not changed since website has been redesigned\n",
    "\n",
    "- $H_a$: Customer satisfaction has improved since website has been redesigned\n",
    "\n",
    "Results:\n",
    "- True Positive:\n",
    "    - low p-value\n",
    "    - reject $H_0$\n",
    "    - Customer satisfaction has improved as a result of the redesigned website\n",
    "- False Positive (Type I):\n",
    "    - low p-value\n",
    "    - reject $H_0$\n",
    "    - Customer satisfaction has improved, but as a result of a recent sale not the website redesign\n",
    "- True Negative:\n",
    "    - high p-value\n",
    "    - fail to reject $H_0$\n",
    "    - Customer satisfaction has not changed as a result of the redesigned website\n",
    "- False Negative (Type II):\n",
    "    - high p-value\n",
    "    - fail to reject $H_0$\n",
    "    - Customer satisfaction has not changed, but not as a direct result of the redesigned website but rather the company's unethical business practices"
   ]
  },
  {
   "cell_type": "markdown",
   "metadata": {},
   "source": [
    "Data Sources:\n",
    "- Sales by lead source data\n",
    "\n",
    "Hypotheses:\n",
    "- $H_0$: Sales directly attributed to TV ads have not changed as a result of the new TV add\n",
    "\n",
    "- $H_a$: Sales directly attributed to TV ads have increased as a result of the new TV add\n",
    "\n",
    "Results:\n",
    "- True Positive:\n",
    "    - low p-value\n",
    "    - reject $H_0$\n",
    "    - Sales attributed to TV ads have increased as a result of the new TV ad\n",
    "- False Positive (Type I):\n",
    "    - low p-value\n",
    "    - reject $H_0$\n",
    "    - Sales attributed to TV add has increases, but not because of the TV add but rather bad data entry from the sales professional\n",
    "- True Negative:\n",
    "    - high p-value\n",
    "    - fail to reject $H_0$\n",
    "    - Sales attributed to TV ads have not increased as a result of the new TV ad\n",
    "- False Negative (Type II):\n",
    "    - high p-value\n",
    "    - fail to reject $H_0$\n",
    "    - Sales attributed to TV adds have not increased, not a as a direct result of the TV add but rather people are streaming as opposed to watching TV."
   ]
  },
  {
   "cell_type": "code",
   "execution_count": null,
   "metadata": {},
   "outputs": [],
   "source": []
  }
 ],
 "metadata": {
  "kernelspec": {
   "display_name": "Python 3",
   "language": "python",
   "name": "python3"
  },
  "language_info": {
   "codemirror_mode": {
    "name": "ipython",
    "version": 3
   },
   "file_extension": ".py",
   "mimetype": "text/x-python",
   "name": "python",
   "nbconvert_exporter": "python",
   "pygments_lexer": "ipython3",
   "version": "3.7.4"
  }
 },
 "nbformat": 4,
 "nbformat_minor": 2
}
