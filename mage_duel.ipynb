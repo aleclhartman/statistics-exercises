{
 "cells": [
  {
   "cell_type": "code",
   "execution_count": 1,
   "metadata": {},
   "outputs": [],
   "source": [
    "import numpy as np\n",
    "import pandas as pd"
   ]
  },
  {
   "cell_type": "code",
   "execution_count": 3,
   "metadata": {},
   "outputs": [
    {
     "data": {
      "text/plain": [
       "array([[1, 3, 3, 2, 3, 4],\n",
       "       [2, 3, 2, 2, 2, 2],\n",
       "       [4, 1, 3, 2, 4, 2],\n",
       "       [1, 3, 2, 1, 4, 4],\n",
       "       [2, 4, 3, 4, 1, 4],\n",
       "       [2, 4, 2, 2, 1, 2],\n",
       "       [1, 4, 1, 2, 3, 2],\n",
       "       [1, 3, 1, 1, 1, 1],\n",
       "       [4, 1, 4, 4, 3, 2],\n",
       "       [1, 4, 2, 2, 2, 3]])"
      ]
     },
     "execution_count": 3,
     "metadata": {},
     "output_type": "execute_result"
    }
   ],
   "source": [
    "# represent data\n",
    "# create matrix\n",
    "wizard_hp = np.random.choice(range(1,5), size=(10, 6))\n",
    "wizard_hp"
   ]
  },
  {
   "cell_type": "code",
   "execution_count": null,
   "metadata": {},
   "outputs": [],
   "source": []
  }
 ],
 "metadata": {
  "kernelspec": {
   "display_name": "Python 3",
   "language": "python",
   "name": "python3"
  },
  "language_info": {
   "codemirror_mode": {
    "name": "ipython",
    "version": 3
   },
   "file_extension": ".py",
   "mimetype": "text/x-python",
   "name": "python",
   "nbconvert_exporter": "python",
   "pygments_lexer": "ipython3",
   "version": "3.7.4"
  }
 },
 "nbformat": 4,
 "nbformat_minor": 2
}
